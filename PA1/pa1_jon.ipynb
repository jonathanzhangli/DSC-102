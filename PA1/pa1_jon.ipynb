{
 "cells": [
  {
   "cell_type": "code",
   "execution_count": null,
   "metadata": {},
   "outputs": [],
   "source": [
    "products\n",
    "user_reviews"
   ]
  },
  {
   "cell_type": "code",
   "execution_count": null,
   "metadata": {},
   "outputs": [],
   "source": [
    "# Question 4\n",
    "filtered = products[[\"asin\", \"categories]]\n",
    "\n",
    "filtered[\"super_category\"]=filtered[\"categories\"].map_partitions(\n",
    "        lambda a: a.apply(lambda b:b[0][0]),meta=('object'))"
   ]
  },
  {
   "cell_type": "code",
   "execution_count": null,
   "metadata": {},
   "outputs": [],
   "source": [
    "submit = compute_aggregates(ans).compute()"
   ]
  },
  {
   "cell_type": "code",
   "execution_count": null,
   "metadata": {},
   "outputs": [],
   "source": [
    "def compute_aggregates(partition):\n",
    "    ans = filtered.groupby(\"super_category\").agg({\n",
    "        'asin':'count'},\n",
    "        split_out=16)\n",
    "    return ans"
   ]
  },
  {
   "cell_type": "code",
   "execution_count": null,
   "metadata": {},
   "outputs": [],
   "source": [
    "def extract_super_category(df):\n",
    "\treturn df[“categories”][0][0]\n",
    "\n",
    "products[“super_categories”] = products[[“categories”]].map_partitions(extract_super_category, meta = [“object”]) // Don't know what should be in meta\n",
    "\n",
    "filtered = products[[“asin”, “super_categories”]]\n",
    "filtered.groupby(“super_categories”).agg({“asin”: “count”}, split_out=16)"
   ]
  },
  {
   "cell_type": "code",
   "execution_count": null,
   "metadata": {},
   "outputs": [],
   "source": [
    "# Question 5\n",
    "filtered_products_q5 = products[[\"asin\"]]\n",
    "filtered_ur_q5 = user_reviews[[\"asin\"]]\n",
    "\n",
    "joined = filtered_ur_q5.merge(filtered_products_q5, on = \"asin\", how = \"outer\")\n",
    "if joined.shape[0] == products.shape[0]:\n",
    "    return 0\n",
    "else:\n",
    "    return 1\n",
    "\n",
    "\n",
    "# Question 5 using a set\n",
    "dangle = 0\n",
    "asin1 = set(user_reviews[“asin”])\n",
    "asin2 = set(products[“asin”])\n",
    "for a in asin1:\n",
    "    if a not in asin2:\n",
    "        dangle = 1\n",
    "        break"
   ]
  },
  {
   "cell_type": "code",
   "execution_count": null,
   "metadata": {},
   "outputs": [],
   "source": [
    "# Question 6\n",
    "function unpack(dic):\n",
    "    output = []\n",
    "    for key in dic:\n",
    "        output += dic[key]\n",
    "    \n",
    "    return set(output)\n",
    "\n",
    "\n",
    "\n",
    "asin1 = set(user_reviews[“asin”]) # THIS IS CORRECT\n",
    "\n",
    "products[“unpacked”] = products[“related’].apply(lambda a: unpack(a)\n",
    "asin2 = sum(products[“unpacked”]) # This line should add all sets in series together to make it a huge set\n",
    "\n",
    "dangle = 0\n",
    "for a in asin1:\n",
    "    if a not in asin2:\n",
    "        dangle = 1\n",
    "        break"
   ]
  },
  {
   "cell_type": "code",
   "execution_count": null,
   "metadata": {},
   "outputs": [],
   "source": []
  }
 ],
 "metadata": {
  "language_info": {
   "name": "plaintext"
  },
  "orig_nbformat": 4
 },
 "nbformat": 4,
 "nbformat_minor": 2
}
