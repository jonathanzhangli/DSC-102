{
 "cells": [
  {
   "cell_type": "markdown",
   "metadata": {},
   "source": [
    "# Assignment 2 DSC 102 2022 WI"
   ]
  },
  {
   "cell_type": "markdown",
   "metadata": {},
   "source": [
    "## Introduction\n",
    "\n",
    "In this assignment we will conduct data engineering for the Amazon dataset. It is divided into 2 parts. The extracted features in Part 1 will be used for the Part 2 of assignment, where you train a model (or models) to predict user ratings for a product.\n",
    "\n",
    "We will be using Apache Spark for this assignment. The default Spark API will be DataFrame, as it is now the recommended choice over the RDD API. That being said, please feel free to switch back to the RDD API if you see it as a better fit for the task. We provide you an option to request RDD format to start with. Also you can switch between DataFrame and RDD in your solution. \n",
    "\n",
    "Another newer API is Koalas, which is also avaliable. However, it has constraints and is not applicable to most tasks. Refer to the PA statement for detail."
   ]
  },
  {
   "cell_type": "markdown",
   "metadata": {},
   "source": [
    "### Set the following parameters"
   ]
  },
  {
   "cell_type": "code",
   "execution_count": 1,
   "metadata": {
    "ExecuteTime": {
     "end_time": "2020-02-03T18:47:30.022030Z",
     "start_time": "2020-02-03T18:47:30.019499Z"
    }
   },
   "outputs": [],
   "source": [
    "PID = 'A15849931' # your pid, for instance: 'a43223333'\n",
    "INPUT_FORMAT = 'dataframe' # choose a format of your input data, valid options: 'dataframe', 'rdd', 'koalas'"
   ]
  },
  {
   "cell_type": "code",
   "execution_count": 2,
   "metadata": {
    "ExecuteTime": {
     "end_time": "2020-02-03T18:50:16.780690Z",
     "start_time": "2020-02-03T18:47:30.263681Z"
    }
   },
   "outputs": [
    {
     "name": "stdout",
     "output_type": "stream",
     "text": [
      "Loading datasets ...Done\n"
     ]
    }
   ],
   "source": [
    "# Boiler plates, do NOT modify\n",
    "%load_ext autoreload\n",
    "%autoreload 2\n",
    "import os\n",
    "import getpass\n",
    "from pyspark.sql import SparkSession\n",
    "from utilities import SEED\n",
    "from utilities import PA2Test\n",
    "from utilities import PA2Data\n",
    "from utilities import data_cat\n",
    "from pa2_main import PA2Executor\n",
    "import time\n",
    "if INPUT_FORMAT == 'dataframe':\n",
    "    import pyspark.ml as M\n",
    "    import pyspark.sql.functions as F\n",
    "    import pyspark.sql.types as T\n",
    "if INPUT_FORMAT == 'koalas':\n",
    "    import databricks.koalas as ks\n",
    "elif INPUT_FORMAT == 'rdd':\n",
    "    import pyspark.mllib as M\n",
    "    from pyspark.mllib.feature import Word2Vec\n",
    "    from pyspark.mllib.linalg import Vectors\n",
    "    from pyspark.mllib.linalg.distributed import RowMatrix\n",
    "\n",
    "os.environ['PYSPARK_SUBMIT_ARGS'] = '--py-files utilities.py,assignment2.py \\\n",
    "--deploy-mode client \\\n",
    "pyspark-shell'\n",
    "\n",
    "class args:\n",
    "    review_filename = data_cat.review_filename\n",
    "    product_filename = data_cat.product_filename\n",
    "    product_processed_filename = data_cat.product_processed_filename\n",
    "    ml_features_train_filename = data_cat.ml_features_train_filename\n",
    "    ml_features_test_filename = data_cat.ml_features_test_filename\n",
    "    output_root = '/home/{}/{}-pa2/test_results'.format(getpass.getuser(), PID)\n",
    "    test_results_root = data_cat.test_results_root\n",
    "    pid = PID\n",
    "\n",
    "pa2 = PA2Executor(args, input_format=INPUT_FORMAT)\n",
    "data_io = pa2.data_io\n",
    "data_dict = pa2.data_dict\n",
    "begin = time.time()\n"
   ]
  },
  {
   "cell_type": "code",
   "execution_count": 3,
   "metadata": {
    "ExecuteTime": {
     "end_time": "2020-01-26T20:45:52.353249Z",
     "start_time": "2020-01-26T20:45:52.343036Z"
    }
   },
   "outputs": [],
   "source": [
    "# Import your own dependencies\n",
    "import numpy as np\n",
    "import math\n",
    "from pyspark.sql.functions import avg, max, variance, isnan, udf, col, explode, countDistinct, array_contains, rand\n",
    "import pyspark.sql.functions as func\n",
    "from pyspark.sql.types import StringType, ArrayType, IntegerType\n",
    "# from pyspark.mllib.feature import Word2Vec\n",
    "from pyspark.ml.feature import Word2Vec\n",
    "from pyspark.ml.feature import StringIndexer, OneHotEncoderEstimator, PCA\n",
    "from pyspark.ml.stat import Summarizer\n",
    "from collections import defaultdict\n",
    "\n",
    "# Machine Learning\n",
    "from pyspark.ml import Pipeline\n",
    "from pyspark.ml.classification import DecisionTreeClassifier\n",
    "from pyspark.ml.feature import StringIndexer, VectorIndexer\n",
    "from pyspark.ml.evaluation import RegressionEvaluator\n",
    "from pyspark.ml.regression import DecisionTreeRegressor\n",
    "\n",
    "\n",
    "#-----------------------------"
   ]
  },
  {
   "cell_type": "markdown",
   "metadata": {},
   "source": [
    "# Part 1: Feature Engineering"
   ]
  },
  {
   "cell_type": "code",
   "execution_count": 4,
   "metadata": {},
   "outputs": [],
   "source": [
    "# Bring the part_1 datasets to memory and de-cache part_2 datasets. \n",
    "# Execute this once before you start working on this Part\n",
    "data_dict, _ = data_io.cache_switch(data_dict, 'part_1')"
   ]
  },
  {
   "cell_type": "markdown",
   "metadata": {
    "deletable": false,
    "editable": false,
    "run_control": {
     "frozen": true
    }
   },
   "source": [
    "# Task0: warm up \n",
    "This task is provided for you to get familiar with Spark API. We will use the dataframe API to demonstrate. Solution is given to you and this task won't be graded.\n",
    "\n",
    "Refer to https://spark.apache.org/docs/latest/api/python/pyspark.sql.html for API guide.\n",
    "\n",
    "The task is to implement the function below. Given the ```product_data``` table:\n",
    "1. Take and print five rows.\n",
    "\n",
    "1. Select only the ```asin``` column, then print five rows of it.\n",
    "\n",
    "1. Select the row where ```asin = B00I8KEOTM``` and print it.\n",
    "\n",
    "1. Count the total number of rows.\n",
    "\n",
    "1. Calculate the mean ```price```.\n",
    "\n",
    "1. You need to conduct the above operations, then extract some statistics out of the generated columns. You need to put the statistics in a python dictionary named ```res```. The description and schema of it are as follows:\n",
    "    ```\n",
    "    res\n",
    "     | -- count_total: int -- count of total rows of the entire table after your operations\n",
    "     | -- mean_price: float -- mean value of column price\n",
    "    ```"
   ]
  },
  {
   "cell_type": "code",
   "execution_count": null,
   "metadata": {
    "ExecuteTime": {
     "end_time": "2020-01-26T20:45:52.368918Z",
     "start_time": "2020-01-26T20:45:52.355018Z"
    }
   },
   "outputs": [],
   "source": [
    "def task_0(data_io, product_data):\n",
    "    # -----------------------------Column names--------------------------------\n",
    "    # Inputs:\n",
    "    asin_column = 'asin'\n",
    "    overall_column = 'overall'\n",
    "    # Outputs:\n",
    "    mean_rating_column = 'meanRating'\n",
    "    count_rating_column = 'countRating'\n",
    "    # -------------------------------------------------------------------------\n",
    "\n",
    "    # ---------------------- Your implementation begins------------------------\n",
    "\n",
    "    product_data.show(5)\n",
    "    product_data[['asin']].show(5)\n",
    "    product_data.where(F.col('asin') == 'B00I8KEOTM').show()\n",
    "    count_rows = product_data.count()\n",
    "    mean_price = product_data.select(F.avg(F.col('price'))).head()[0]\n",
    "    # -------------------------------------------------------------------------\n",
    "\n",
    "    # ---------------------- Put results in res dict --------------------------\n",
    "    # Calculate the values programmatically. Do not change the keys and do not\n",
    "    # hard-code values in the dict. Your submission will be evaluated with\n",
    "    # different inputs.\n",
    "    # Modify the values of the following dictionary accordingly.\n",
    "    res = {'count_total': None, 'mean_price': None}\n",
    "    \n",
    "    # Modify res:\n",
    "\n",
    "    res['count_total'] = count_rows\n",
    "    res['mean_price'] = mean_price\n",
    "\n",
    "    # -------------------------------------------------------------------------\n",
    "\n",
    "    # ----------------------------- Do not change -----------------------------\n",
    "    return res\n",
    "    # -------------------------------------------------------------------------"
   ]
  },
  {
   "cell_type": "code",
   "execution_count": null,
   "metadata": {
    "ExecuteTime": {
     "end_time": "2020-01-26T20:45:54.222111Z",
     "start_time": "2020-01-26T20:45:52.370377Z"
    },
    "deletable": false,
    "editable": false
   },
   "outputs": [],
   "source": [
    "if INPUT_FORMAT == 'dataframe':\n",
    "    res = task_0(data_io, data_dict['product'])\n",
    "    pa2.tests.test(res, 'task_0')"
   ]
  },
  {
   "cell_type": "markdown",
   "metadata": {
    "deletable": false,
    "editable": false,
    "run_control": {
     "frozen": true
    }
   },
   "source": [
    "# Task1"
   ]
  },
  {
   "cell_type": "code",
   "execution_count": null,
   "metadata": {
    "ExecuteTime": {
     "end_time": "2019-12-10T21:30:44.034299Z",
     "start_time": "2019-12-10T21:30:44.012787Z"
    }
   },
   "outputs": [],
   "source": [
    "# %load -s task_1 assignment2.py\n",
    "def task_1(data_io, review_data, product_data):\n",
    "    # -----------------------------Column names--------------------------------\n",
    "    # Inputs:\n",
    "    asin_column = 'asin'\n",
    "    overall_column = 'overall'\n",
    "    # Outputs:\n",
    "    mean_rating_column = 'meanRating'\n",
    "    count_rating_column = 'countRating'\n",
    "    # -------------------------------------------------------------------------\n",
    "\n",
    "    # ---------------------- Your implementation begins------------------------\n",
    "    joined = product_data.join(review_data, product_data.asin==review_data.asin, how=\"left\")\\\n",
    "                         .select(product_data.asin, review_data.overall)\n",
    "    \n",
    "    #filtered_overall = joined.filter(joined[overall_column] is not None)\n",
    "    \n",
    "    \n",
    "    stats = joined.groupBy(asin_column).agg(avg(overall_column).alias(\"avg_rating\"), \\\n",
    "                                            func.count(overall_column).alias(\"count\"))\n",
    "    \n",
    "    stats = stats.replace(0, None)\n",
    "    \n",
    "    description = stats.describe().collect()\n",
    "    print(description)\n",
    "\n",
    "#     count_rating = joined.select(joined[asin_column], joined[overall_column]).groupBy(asin_column).count()\n",
    "\n",
    "\n",
    "    # -------------------------------------------------------------------------\n",
    "\n",
    "    # ---------------------- Put results in res dict --------------------------\n",
    "    # Calculate the values programmaticly. Do not change the keys and do not\n",
    "    # hard-code values in the dict. Your submission will be evaluated with\n",
    "    # different inputs.\n",
    "    # Modify the values of the following dictionary accordingly.\n",
    "    res = {\n",
    "        'count_total': None,\n",
    "        'mean_meanRating': None,\n",
    "        'variance_meanRating': None,\n",
    "        'numNulls_meanRating': None,\n",
    "        'mean_countRating': None,\n",
    "        'variance_countRating': None,\n",
    "        'numNulls_countRating': None\n",
    "    }\n",
    "    # Modify res:\n",
    "    res['count_total'] = int(description[0][\"asin\"])\n",
    "    \n",
    "    res['mean_meanRating'] = float(description[1][\"avg_rating\"])\n",
    "    \n",
    "    res['variance_meanRating'] = float(description[2][\"avg_rating\"]) ** 2\n",
    "    \n",
    "    res['numNulls_meanRating'] = int(description[0][\"asin\"]) - int(description[0][\"avg_rating\"])\n",
    "    \n",
    "    res['mean_countRating'] = float(description[1][\"count\"])\n",
    "    \n",
    "    res['variance_countRating'] = float(description[2][\"count\"]) ** 2\n",
    "    \n",
    "    res['numNulls_countRating'] = int(description[0][\"asin\"]) - int(description[0][\"count\"])\n",
    "\n",
    "\n",
    "\n",
    "    # -------------------------------------------------------------------------\n",
    "\n",
    "    # ----------------------------- Do not change -----------------------------\n",
    "    data_io.save(res, 'task_1')\n",
    "    return res\n",
    "    # -------------------------------------------------------------------------"
   ]
  },
  {
   "cell_type": "code",
   "execution_count": null,
   "metadata": {
    "ExecuteTime": {
     "end_time": "2019-12-09T22:19:04.214179Z",
     "start_time": "2019-12-09T22:18:39.293699Z"
    },
    "deletable": false,
    "editable": false,
    "scrolled": true
   },
   "outputs": [],
   "source": [
    "res = task_1(data_io, data_dict['review'], data_dict['product'])\n",
    "pa2.tests.test(res, 'task_1')"
   ]
  },
  {
   "cell_type": "markdown",
   "metadata": {
    "deletable": false,
    "editable": false,
    "run_control": {
     "frozen": true
    }
   },
   "source": [
    "\n",
    "# Task 2"
   ]
  },
  {
   "cell_type": "code",
   "execution_count": null,
   "metadata": {
    "ExecuteTime": {
     "end_time": "2019-12-10T21:31:16.942833Z",
     "start_time": "2019-12-10T21:31:16.925378Z"
    }
   },
   "outputs": [],
   "source": [
    "# %load -s task_2 assignment2.py\n",
    "def task_2(data_io, product_data):\n",
    "    # -----------------------------Column names--------------------------------\n",
    "    # Inputs:\n",
    "    salesRank_column = 'salesRank'\n",
    "    categories_column = 'categories'\n",
    "    asin_column = 'asin'\n",
    "    # Outputs:\n",
    "    category_column = 'category'\n",
    "    bestSalesCategory_column = 'bestSalesCategory'\n",
    "    bestSalesRank_column = 'bestSalesRank'\n",
    "    # -------------------------------------------------------------------------\n",
    "\n",
    "    # ---------------------- Your implementation begins------------------------\n",
    "    \n",
    "    def first_subcategory(categories):\n",
    "        if categories is None or len(categories) == 0 or categories[0][0] == \"\":\n",
    "            return None\n",
    "        else:\n",
    "            return categories[0][0]\n",
    "            \n",
    "    udf_first_subcategory = udf(lambda x: first_subcategory(x), StringType())\n",
    "    \n",
    "    product_data = product_data.withColumn(category_column, udf_first_subcategory(col(categories_column)))\n",
    "\n",
    "    exploded = product_data.select(asin_column, explode(salesRank_column))\n",
    "    \n",
    "    product_data = product_data.join(exploded, product_data.asin==exploded.asin, how=\"left\")\\\n",
    "                               .select(product_data.asin, product_data.category, exploded.key, exploded.value)\n",
    "    product_data = product_data.withColumnRenamed(\"key\", bestSalesCategory_column) \\\n",
    "                               .withColumnRenamed(\"value\", bestSalesRank_column)\n",
    "    \n",
    "    description = product_data.select(asin_column, \\\n",
    "                                      bestSalesCategory_column, \\\n",
    "                                      bestSalesRank_column, \\\n",
    "                                      category_column).describe().collect()\n",
    "    \n",
    "\n",
    "    print(description)\n",
    "#     product_data.select(salesRank_column, bestSalesCategory_column, bestSalesRank_column).show(5)\n",
    "    \n",
    "    \n",
    "\n",
    "\n",
    "    # -------------------------------------------------------------------------\n",
    "\n",
    "    # ---------------------- Put results in res dict --------------------------\n",
    "    res = {\n",
    "        'count_total': None,\n",
    "        'mean_bestSalesRank': None,\n",
    "        'variance_bestSalesRank': None,\n",
    "        'numNulls_category': None,\n",
    "        'countDistinct_category': None,\n",
    "        'numNulls_bestSalesCategory': None,\n",
    "        'countDistinct_bestSalesCategory': None\n",
    "    }\n",
    "    # Modify res:\n",
    "    res['count_total'] = int(description[0][\"asin\"])\n",
    "    \n",
    "    res['mean_bestSalesRank'] = float(description[1][\"bestSalesRank\"])\n",
    "    \n",
    "    res['variance_bestSalesRank'] = float(description[2][\"bestSalesRank\"]) ** 2\n",
    "    \n",
    "    res['numNulls_category'] = int(description[0][\"asin\"]) - int(description[0][\"category\"])\n",
    "    \n",
    "    res['countDistinct_category'] = int(product_data.agg(countDistinct(\"category\")).collect()[0][0])\n",
    "    \n",
    "    res['numNulls_bestSalesCategory'] = int(description[0][\"asin\"]) - int(description[0][\"bestSalesCategory\"])\n",
    "    \n",
    "    res['countDistinct_bestSalesCategory'] = int(product_data.agg(countDistinct(bestSalesCategory_column)).collect()[0][0])\n",
    "\n",
    "\n",
    "\n",
    "\n",
    "    # -------------------------------------------------------------------------\n",
    "\n",
    "    # ----------------------------- Do not change -----------------------------\n",
    "    data_io.save(res, 'task_2')\n",
    "    return res\n",
    "    # -------------------------------------------------------------------------\n"
   ]
  },
  {
   "cell_type": "code",
   "execution_count": null,
   "metadata": {
    "ExecuteTime": {
     "end_time": "2019-12-09T22:19:19.308187Z",
     "start_time": "2019-12-09T22:19:04.274345Z"
    },
    "deletable": false,
    "editable": false
   },
   "outputs": [],
   "source": [
    "res = task_2(data_io, data_dict['product'])\n",
    "pa2.tests.test(res, 'task_2')"
   ]
  },
  {
   "cell_type": "markdown",
   "metadata": {
    "deletable": false,
    "editable": false,
    "run_control": {
     "frozen": true
    }
   },
   "source": [
    "# Task 3\n",
    "\n",
    "\n",
    "\n"
   ]
  },
  {
   "cell_type": "code",
   "execution_count": 7,
   "metadata": {
    "ExecuteTime": {
     "end_time": "2019-12-10T21:31:26.542481Z",
     "start_time": "2019-12-10T21:31:26.525050Z"
    }
   },
   "outputs": [],
   "source": [
    "# %load -s task_3 assignment2.py\n",
    "def task_3(data_io, product_data):\n",
    "    # -----------------------------Column names--------------------------------\n",
    "    # Inputs:\n",
    "    asin_column = 'asin'\n",
    "    price_column = 'price'\n",
    "    attribute = 'also_viewed'\n",
    "    related_column = 'related'\n",
    "    # Outputs:\n",
    "    meanPriceAlsoViewed_column = 'meanPriceAlsoViewed'\n",
    "    countAlsoViewed_column = 'countAlsoViewed'\n",
    "    # -------------------------------------------------------------------------\n",
    "\n",
    "    # ---------------------- Your implementation begins------------------------\n",
    "    \n",
    "    # Filtering data (exploding from double list to single list)\n",
    "    exploded = product_data.select('asin', explode(related_column))\n",
    "    filtered = exploded.filter(exploded.key == attribute)\n",
    "    filtered = filtered.withColumnRenamed(\"value\", related_column)\n",
    "\n",
    "    # Exploding a second time (From list to individual values)\n",
    "    exploded_related = filtered.select('asin', explode(related_column))\n",
    "    exploded_related = exploded_related.withColumnRenamed(\"col\", related_column)\\\n",
    "                                       .withColumnRenamed(\"asin\", \"id\")\n",
    "\n",
    "    # Calculate counts\n",
    "    counts = exploded_related.groupby(\"id\").agg(func.count(related_column).alias(countAlsoViewed_column))\n",
    "    counts.show()\n",
    "    \n",
    "    # Replace 0 with NA\n",
    "    counts = counts.na.fill(value=0)\n",
    "\n",
    "    # Calculate means\n",
    "    prices = product_data.select('asin', 'price')\n",
    "\n",
    "    with_related_prices = prices.join(exploded_related, prices.asin==exploded_related.related, how=\"inner\")\\\n",
    "                                .select(exploded_related.id, exploded_related.related, prices.price)\\\n",
    "                                .withColumnRenamed(\"price\", \"price_related\")\n",
    "\n",
    "    avg_prices = with_related_prices.groupby(\"id\").agg(func.avg(\"price_related\").alias(meanPriceAlsoViewed_column))\n",
    "\n",
    "    avg_prices.show()\n",
    "\n",
    "    # Join\n",
    "    product_data = product_data.select(asin_column)\n",
    "\n",
    "    product_data = product_data.join(counts, product_data.asin==counts.id, how=\"left\")\n",
    "    print(\"First join\")\n",
    "    product_data = product_data.join(avg_prices, product_data.asin==avg_prices.id, how=\"left\")\n",
    "    print(\"Second join\")\n",
    "\n",
    "    description = product_data.describe().collect()\n",
    "    print(description)\n",
    "    \n",
    "\n",
    "\n",
    "    # -------------------------------------------------------------------------\n",
    "\n",
    "    # ---------------------- Put results in res dict --------------------------\n",
    "    res = {\n",
    "        'count_total': None,\n",
    "        'mean_meanPriceAlsoViewed': None,\n",
    "        'variance_meanPriceAlsoViewed': None,\n",
    "        'numNulls_meanPriceAlsoViewed': None,\n",
    "        'mean_countAlsoViewed': None,\n",
    "        'variance_countAlsoViewed': None,\n",
    "        'numNulls_countAlsoViewed': None\n",
    "    }\n",
    "    # Modify res:\n",
    "    \n",
    "    res[\"count_total\"] = int(description[0][asin_column])\n",
    "    res[\"mean_meanPriceAlsoViewed\"] = float(description[1][meanPriceAlsoViewed_column])\n",
    "    res[\"variance_meanPriceAlsoViewed\"] = float(description[2][meanPriceAlsoViewed_column])\n",
    "    res[\"numNulls_meanPriceAlsoViewed\"] = int(description[0][\"asin\"]) - int(description[0][\"meanPriceAlsoViewed\"])\n",
    "    res[\"mean_countAlsoViewed\"] = float(description[1][\"countAlsoViewed\"])\n",
    "    res[\"variance_countAlsoViewed\"] = float(description[2][\"countAlsoViewed\"])\n",
    "    res[\"numNulls_countAlsoViewed\"] = int(description[0][\"asin\"]) - int(description[0][\"countAlsoViewed\"])\n",
    "\n",
    "\n",
    "\n",
    "\n",
    "    # -------------------------------------------------------------------------\n",
    "\n",
    "    # ----------------------------- Do not change -----------------------------\n",
    "    data_io.save(res, 'task_3')\n",
    "    return res\n",
    "    # -------------------------------------------------------------------------\n"
   ]
  },
  {
   "cell_type": "code",
   "execution_count": null,
   "metadata": {
    "ExecuteTime": {
     "end_time": "2019-12-09T22:20:41.442745Z",
     "start_time": "2019-12-09T22:19:19.358780Z"
    },
    "deletable": false,
    "editable": false
   },
   "outputs": [
    {
     "name": "stdout",
     "output_type": "stream",
     "text": [
      "+----------+---------------+\n",
      "|        id|countAlsoViewed|\n",
      "+----------+---------------+\n",
      "|B00B33W7NQ|             60|\n",
      "|B00B35P862|             60|\n",
      "|B00B39BQMI|             11|\n",
      "|B00B3B5AFA|             52|\n",
      "|B00B3CCXMM|              3|\n",
      "|B00B3C2ZUC|             45|\n",
      "|B00B3EM0W8|             60|\n",
      "|B00B3L8MPU|              7|\n",
      "|B00B3LRKVM|             56|\n",
      "|B00B3PMEFA|              4|\n",
      "|B00B3SM858|             59|\n",
      "|B00B3TS3UQ|             13|\n",
      "|B00B3UV49M|              6|\n",
      "|B00B3VACO4|             32|\n",
      "|B00B3VHSF0|             14|\n",
      "|B00B3VLTK0|             38|\n",
      "|B00B3VWIQY|              5|\n",
      "|B00B3W7J08|             28|\n",
      "|B00B3YDOIW|             60|\n",
      "|B00B3ZCMWA|              8|\n",
      "+----------+---------------+\n",
      "only showing top 20 rows\n",
      "\n"
     ]
    }
   ],
   "source": [
    "res = task_3(data_io, data_dict['product'])\n",
    "pa2.tests.test(res, 'task_3')"
   ]
  },
  {
   "cell_type": "markdown",
   "metadata": {
    "deletable": false,
    "editable": false,
    "run_control": {
     "frozen": true
    }
   },
   "source": [
    "# Task 4"
   ]
  },
  {
   "cell_type": "code",
   "execution_count": 5,
   "metadata": {
    "ExecuteTime": {
     "end_time": "2019-12-10T21:31:39.503390Z",
     "start_time": "2019-12-10T21:31:39.484724Z"
    }
   },
   "outputs": [],
   "source": [
    "# %load -s task_4 assignment2.py\n",
    "def task_4(data_io, product_data):\n",
    "    # -----------------------------Column names--------------------------------\n",
    "    # Inputs:\n",
    "    price_column = 'price'\n",
    "    title_column = 'title'\n",
    "    # Outputs:\n",
    "    meanImputedPrice_column = 'meanImputedPrice'\n",
    "    medianImputedPrice_column = 'medianImputedPrice'\n",
    "    unknownImputedTitle_column = 'unknownImputedTitle'\n",
    "    # -------------------------------------------------------------------------\n",
    "\n",
    "    # ---------------------- Your implementation begins------------------------\n",
    "    # Mean and Median impute\n",
    "    mean_med = product_data.agg(avg(price_column).alias('mean_price'), \\\n",
    "                                func.expr(\"percentile(price, 0.5)\").alias(\"median_price\"))\n",
    "    \n",
    "    mean = mean_med.collect()[0]['mean_price']\n",
    "    median = mean_med.collect()[0]['median_price']\n",
    "\n",
    "    product_data = product_data.withColumn(meanImputedPrice_column, col(price_column))\n",
    "    product_data = product_data.na.fill(value=mean, subset=[meanImputedPrice_column])\n",
    "    \n",
    "    product_data = product_data.withColumn(medianImputedPrice_column, col(price_column))\n",
    "    product_data = product_data.na.fill(value=median, subset=[medianImputedPrice_column])\n",
    "    \n",
    "    \n",
    "    # String column Impute\n",
    "    product_data = product_data.replace('', None)\n",
    "    \n",
    "    description = product_data.select('asin', price_column, title_column, meanImputedPrice_column, \\\n",
    "                                      medianImputedPrice_column).describe().collect()\n",
    "    \n",
    "    product_data = product_data.withColumn(unknownImputedTitle_column, col(title_column))\n",
    "    product_data = product_data.na.fill(value='unknown', subset=[unknownImputedTitle_column])\n",
    "\n",
    "    # -------------------------------------------------------------------------\n",
    "\n",
    "    # ---------------------- Put results in res dict --------------------------\n",
    "    res = {\n",
    "        'count_total': None,\n",
    "        'mean_meanImputedPrice': None,\n",
    "        'variance_meanImputedPrice': None,\n",
    "        'numNulls_meanImputedPrice': None,\n",
    "        'mean_medianImputedPrice': None,\n",
    "        'variance_medianImputedPrice': None,\n",
    "        'numNulls_medianImputedPrice': None,\n",
    "        'numUnknowns_unknownImputedTitle': None\n",
    "    }\n",
    "    # Modify res:\n",
    "    res['count_total'] = int(description[0][\"asin\"])\n",
    "    \n",
    "    res['mean_meanImputedPrice'] = float(description[1][meanImputedPrice_column])\n",
    "    \n",
    "    res['variance_meanImputedPrice'] = float(description[2][meanImputedPrice_column]) ** 2\n",
    "    \n",
    "    res['numNulls_meanImputedPrice'] = int(description[0][\"asin\"]) - int(description[0][meanImputedPrice_column])\n",
    "    \n",
    "    res['mean_medianImputedPrice'] = float(description[1][medianImputedPrice_column])\n",
    "    \n",
    "    res['variance_medianImputedPrice'] = float(description[2][medianImputedPrice_column]) ** 2\n",
    "    \n",
    "    res['numNulls_medianImputedPrice'] = int(description[0][\"asin\"]) - int(description[0][medianImputedPrice_column])\n",
    "    \n",
    "    res['numUnknowns_unknownImputedTitle'] = int(description[0][\"asin\"]) - int(description[0][title_column])\n",
    "\n",
    "\n",
    "\n",
    "    # -------------------------------------------------------------------------\n",
    "\n",
    "    # ----------------------------- Do not change -----------------------------\n",
    "    data_io.save(res, 'task_4')\n",
    "    return res\n",
    "    # -------------------------------------------------------------------------\n"
   ]
  },
  {
   "cell_type": "code",
   "execution_count": 6,
   "metadata": {
    "ExecuteTime": {
     "end_time": "2019-12-09T22:20:47.953226Z",
     "start_time": "2019-12-09T22:20:41.523379Z"
    },
    "deletable": false,
    "editable": false
   },
   "outputs": [
    {
     "name": "stderr",
     "output_type": "stream",
     "text": [
      "/usr/local/lib/python3.6/dist-packages/pyspark/sql/session.py:346: UserWarning: inferring schema from dict is deprecated,please use pyspark.sql.Row instead\n",
      "  warnings.warn(\"inferring schema from dict is deprecated,\"\n"
     ]
    },
    {
     "name": "stdout",
     "output_type": "stream",
     "text": [
      "tests for task_4 --------------------------------------------------------------\n",
      "Test 1/8 : count_total ... Pass\n",
      "Test 2/8 : mean_meanImputedPrice ... Pass\n",
      "Test 3/8 : mean_medianImputedPrice ... Pass\n",
      "Test 4/8 : numNulls_meanImputedPrice ... Pass\n",
      "Test 5/8 : numNulls_medianImputedPrice ... Pass\n",
      "Test 6/8 : numUnknowns_unknownImputedTitle ... Pass\n",
      "Test 7/8 : variance_meanImputedPrice ... Pass\n",
      "Test 8/8 : variance_medianImputedPrice ... Pass\n",
      "8/8 passed\n",
      "-------------------------------------------------------------------------------\n"
     ]
    },
    {
     "data": {
      "text/plain": [
       "True"
      ]
     },
     "execution_count": 6,
     "metadata": {},
     "output_type": "execute_result"
    }
   ],
   "source": [
    "res = task_4(data_io, data_dict['product'])\n",
    "pa2.tests.test(res, 'task_4')"
   ]
  },
  {
   "cell_type": "markdown",
   "metadata": {
    "deletable": false,
    "editable": false,
    "run_control": {
     "frozen": true
    }
   },
   "source": [
    "# Task 5"
   ]
  },
  {
   "cell_type": "code",
   "execution_count": null,
   "metadata": {
    "ExecuteTime": {
     "end_time": "2019-12-10T21:32:29.284661Z",
     "start_time": "2019-12-10T21:32:29.267237Z"
    }
   },
   "outputs": [],
   "source": [
    "# %load -s task_5 assignment2.py\n",
    "def task_5(data_io, product_processed_data, word_0, word_1, word_2):\n",
    "    # -----------------------------Column names--------------------------------\n",
    "    # Inputs:\n",
    "    title_column = 'title'\n",
    "    # Outputs:\n",
    "    titleArray_column = 'titleArray'\n",
    "    titleVector_column = 'titleVector'\n",
    "    # -------------------------------------------------------------------------\n",
    "\n",
    "    # ---------------------- Your implementation begins------------------------\n",
    "    def convert_array(title):\n",
    "        return title.lower().split(' ')\n",
    "            \n",
    "    udf_convert_array = udf(lambda x: convert_array(x), ArrayType(StringType()))\n",
    "    \n",
    "    product_processed_data = product_processed_data.withColumn(titleArray_column, udf_convert_array(col(title_column)))\n",
    "    \n",
    "    product_processed_data.show()\n",
    "    \n",
    "    word2Vec = Word2Vec(vectorSize=16, minCount=100, seed=102, numPartitions=4, inputCol=titleArray_column, outputCol=titleVector_column)\n",
    "    model = word2Vec.fit(product_processed_data)\n",
    "\n",
    "\n",
    "    # -------------------------------------------------------------------------\n",
    "\n",
    "    # ---------------------- Put results in res dict --------------------------\n",
    "    res = {\n",
    "        'count_total': None,\n",
    "        'size_vocabulary': None,\n",
    "        'word_0_synonyms': [(None, None), ],\n",
    "        'word_1_synonyms': [(None, None), ],\n",
    "        'word_2_synonyms': [(None, None), ]\n",
    "    }\n",
    "    # Modify res:\n",
    "    res['count_total'] = product_processed_data.count()\n",
    "    res['size_vocabulary'] = model.getVectors().count()\n",
    "    for name, word in zip(\n",
    "        ['word_0_synonyms', 'word_1_synonyms', 'word_2_synonyms'],\n",
    "        [word_0, word_1, word_2]\n",
    "    ):\n",
    "        res[name] = model.findSynonymsArray(word, 10)\n",
    "    # -------------------------------------------------------------------------\n",
    "\n",
    "    # ----------------------------- Do not change -----------------------------\n",
    "    data_io.save(res, 'task_5')\n",
    "    return res\n",
    "    # -------------------------------------------------------------------------\n"
   ]
  },
  {
   "cell_type": "code",
   "execution_count": null,
   "metadata": {
    "ExecuteTime": {
     "end_time": "2019-12-09T22:26:05.015529Z",
     "start_time": "2019-12-09T22:20:47.999834Z"
    },
    "deletable": false,
    "editable": false
   },
   "outputs": [],
   "source": [
    "res = task_5(data_io, data_dict['product_processed'], 'piano', 'rice', 'laptop')\n",
    "pa2.tests.test(res, 'task_5')"
   ]
  },
  {
   "cell_type": "markdown",
   "metadata": {
    "deletable": false,
    "editable": false,
    "run_control": {
     "frozen": true
    }
   },
   "source": [
    "# Task 6"
   ]
  },
  {
   "cell_type": "code",
   "execution_count": null,
   "metadata": {
    "ExecuteTime": {
     "end_time": "2019-12-10T21:32:39.991460Z",
     "start_time": "2019-12-10T21:32:39.974136Z"
    }
   },
   "outputs": [],
   "source": [
    "# %load -s task_6 assignment2.py\n",
    "def task_6(data_io, product_processed_data):\n",
    "    # -----------------------------Column names--------------------------------\n",
    "    # Inputs:\n",
    "    category_column = 'category'\n",
    "    # Outputs:\n",
    "    categoryIndex_column = 'categoryIndex'\n",
    "    categoryOneHot_column = 'categoryOneHot'\n",
    "    categoryPCA_column = 'categoryPCA'\n",
    "    # -------------------------------------------------------------------------    \n",
    "\n",
    "    # ---------------------- Your implementation begins------------------------\n",
    "    # String Indexer\n",
    "    indexer = StringIndexer(inputCol=category_column, outputCol=categoryIndex_column)\n",
    "    indexed = indexer.fit(product_processed_data).transform(product_processed_data)\n",
    "    \n",
    "    # One Hot Encodding\n",
    "    ohe = OneHotEncoderEstimator(inputCols=[categoryIndex_column], outputCols=[categoryOneHot_column], dropLast=False)\n",
    "    model = ohe.fit(indexed)\n",
    "    encoded = model.transform(indexed)\n",
    "    \n",
    "    # PCA\n",
    "    pca = PCA(k=15, inputCol=categoryOneHot_column, outputCol=categoryPCA_column)\n",
    "    pca_model = pca.fit(encoded)\n",
    "    reduced = pca_model.transform(encoded)\n",
    "    \n",
    "    # Summary\n",
    "    summarizer = Summarizer.metrics('mean')\n",
    "    \n",
    "    averages_OHE = reduced.select(summarizer.summary(reduced[categoryOneHot_column])).collect()[0][0][0]\n",
    "    \n",
    "    averages_PCA = reduced.select(summarizer.summary(reduced[categoryPCA_column])).collect()[0][0][0]\n",
    "\n",
    "    # -------------------------------------------------------------------------\n",
    "\n",
    "    # ---------------------- Put results in res dict --------------------------\n",
    "    res = {\n",
    "        'count_total': None,\n",
    "        'meanVector_categoryOneHot': [None, ],\n",
    "        'meanVector_categoryPCA': [None, ]\n",
    "    }\n",
    "    # Modify res:\n",
    "    res['count_total'] = int(reduced.count())\n",
    "    \n",
    "    res['meanVector_categoryOneHot'] = averages_OHE\n",
    "    \n",
    "    res['meanVector_categoryPCA'] = averages_PCA\n",
    "\n",
    "\n",
    "\n",
    "    # -------------------------------------------------------------------------\n",
    "\n",
    "    # ----------------------------- Do not change -----------------------------\n",
    "    data_io.save(res, 'task_6')\n",
    "    return res\n",
    "    # -------------------------------------------------------------------------\n"
   ]
  },
  {
   "cell_type": "code",
   "execution_count": null,
   "metadata": {
    "ExecuteTime": {
     "end_time": "2019-12-09T22:29:57.717617Z",
     "start_time": "2019-12-09T22:29:51.132434Z"
    },
    "deletable": false,
    "editable": false
   },
   "outputs": [],
   "source": [
    "res = task_6(data_io, data_dict['product_processed'])\n",
    "pa2.tests.test(res, 'task_6')"
   ]
  },
  {
   "cell_type": "code",
   "execution_count": null,
   "metadata": {
    "ExecuteTime": {
     "end_time": "2019-11-26T21:23:18.882119Z",
     "start_time": "2019-11-26T21:23:18.873162Z"
    },
    "deletable": false,
    "editable": false
   },
   "outputs": [],
   "source": [
    "print (\"End to end time: {}\".format(time.time()-begin))"
   ]
  },
  {
   "cell_type": "markdown",
   "metadata": {},
   "source": [
    "# Part 2: Model Selection"
   ]
  },
  {
   "cell_type": "code",
   "execution_count": null,
   "metadata": {},
   "outputs": [],
   "source": [
    "# Bring the part_2 datasets to memory and de-cache part_1 datasets.\n",
    "# Execute this once before you start working on this Part\n",
    "data_dict, _ = data_io.cache_switch(data_dict, 'part_2')"
   ]
  },
  {
   "cell_type": "markdown",
   "metadata": {},
   "source": [
    "# Task 7"
   ]
  },
  {
   "cell_type": "code",
   "execution_count": null,
   "metadata": {},
   "outputs": [],
   "source": [
    "def task_7(data_io, train_data, test_data):\n",
    "    \n",
    "    # ---------------------- Your implementation begins------------------------\n",
    "\n",
    "    # Train a DecisionTree model.\n",
    "    dt = DecisionTreeRegressor(labelCol=\"overall\", featuresCol=\"features\", maxDepth=5)\n",
    "\n",
    "    # Train model.  This also runs the indexers.\n",
    "    model = dt.fit(train_data)\n",
    "\n",
    "    # Make predictions.\n",
    "    predictions = model.transform(test_data)\n",
    "\n",
    "    # Select (prediction, true label) and compute test error\n",
    "    evaluator = RegressionEvaluator(labelCol=\"overall\", predictionCol=\"prediction\", metricName=\"rmse\")\n",
    "    rmse = evaluator.evaluate(predictions)\n",
    "    \n",
    "    # -------------------------------------------------------------------------\n",
    "    \n",
    "    \n",
    "    # ---------------------- Put results in res dict --------------------------\n",
    "    res = {\n",
    "        'test_rmse': None\n",
    "    }\n",
    "    # Modify res:\n",
    "    res['test_rmse'] = rmse\n",
    "\n",
    "\n",
    "    # -------------------------------------------------------------------------\n",
    "\n",
    "    # ----------------------------- Do not change -----------------------------\n",
    "    data_io.save(res, 'task_7')\n",
    "    return res\n",
    "    # -------------------------------------------------------------------------"
   ]
  },
  {
   "cell_type": "code",
   "execution_count": null,
   "metadata": {},
   "outputs": [],
   "source": [
    "res = task_7(data_io, data_dict['ml_features_train'], data_dict['ml_features_test'])\n",
    "pa2.tests.test(res, 'task_7')"
   ]
  },
  {
   "cell_type": "markdown",
   "metadata": {},
   "source": [
    "# Task 8"
   ]
  },
  {
   "cell_type": "code",
   "execution_count": null,
   "metadata": {},
   "outputs": [],
   "source": [
    "def task_8(data_io, train_data, test_data):\n",
    "    \n",
    "    # ---------------------- Your implementation begins------------------------\n",
    "    \n",
    "    # Split the data into training and test sets (30% held out for testing)\n",
    "    (trainingData, validationData) = train_data.randomSplit([0.75, 0.25])\n",
    "    \n",
    "    rmses = []\n",
    "    min_rmse = 0\n",
    "    best_model = None\n",
    "\n",
    "    for depth in [5, 7, 9, 12]:\n",
    "        \n",
    "        # Train a DecisionTree model.\n",
    "        dt = DecisionTreeRegressor(labelCol=\"overall\", featuresCol=\"features\", maxDepth=depth)\n",
    "\n",
    "        # Train model.  This also runs the indexers.\n",
    "        model = dt.fit(trainingData)\n",
    "\n",
    "        # Make predictions.\n",
    "        predictions = model.transform(validationData)\n",
    "        \n",
    "        predictions.show(10)\n",
    "        \n",
    "        # Get rmse\n",
    "        evaluator = RegressionEvaluator(labelCol=\"overall\", predictionCol=\"prediction\", metricName=\"rmse\")\n",
    "        rmse = evaluator.evaluate(predictions)\n",
    "        \n",
    "        min_rmse = min([min_rmse, rmse])\n",
    "        rmses.append(rmse)\n",
    "        if rmse == min_rmse:\n",
    "            best_model = model\n",
    "    \n",
    "    best_model_prediction = best_model.transform(test_data)\n",
    "    \n",
    "    # Get test rmse\n",
    "    evaluator = RegressionEvaluator(labelCol=\"overall\", predictionCol=\"prediction\", metricName=\"rmse\")\n",
    "    test_rmse = evaluator.evaluate(best_model_prediction)\n",
    "    \n",
    "    \n",
    "    # -------------------------------------------------------------------------\n",
    "    \n",
    "    \n",
    "    # ---------------------- Put results in res dict --------------------------\n",
    "    res = {\n",
    "        'test_rmse': None,\n",
    "        'valid_rmse_depth_5': None,\n",
    "        'valid_rmse_depth_7': None,\n",
    "        'valid_rmse_depth_9': None,\n",
    "        'valid_rmse_depth_12': None,\n",
    "    }\n",
    "    # Modify res:\n",
    "    res['test_rmse'] = test_rmse\n",
    "    res['valid_rmse_depth_5'] = rmses[0]\n",
    "    res['valid_rmse_depth_7'] = rmses[1]\n",
    "    res['valid_rmse_depth_9'] = rmses[2]\n",
    "    res['valid_rmse_depth_12'] = rmses[3]\n",
    "\n",
    "\n",
    "    # -------------------------------------------------------------------------\n",
    "\n",
    "    # ----------------------------- Do not change -----------------------------\n",
    "    data_io.save(res, 'task_8')\n",
    "    return res\n",
    "    # -------------------------------------------------------------------------"
   ]
  },
  {
   "cell_type": "code",
   "execution_count": null,
   "metadata": {},
   "outputs": [],
   "source": [
    "res = task_8(data_io, data_dict['ml_features_train'], data_dict['ml_features_test'])\n",
    "pa2.tests.test(res, 'task_8')"
   ]
  },
  {
   "cell_type": "code",
   "execution_count": null,
   "metadata": {},
   "outputs": [],
   "source": [
    "print (\"End to end time: {}\".format(time.time()-begin))"
   ]
  }
 ],
 "metadata": {
  "kernelspec": {
   "display_name": "Python 3",
   "language": "python",
   "name": "python3"
  },
  "language_info": {
   "codemirror_mode": {
    "name": "ipython",
    "version": 3
   },
   "file_extension": ".py",
   "mimetype": "text/x-python",
   "name": "python",
   "nbconvert_exporter": "python",
   "pygments_lexer": "ipython3",
   "version": "3.6.10"
  }
 },
 "nbformat": 4,
 "nbformat_minor": 2
}
